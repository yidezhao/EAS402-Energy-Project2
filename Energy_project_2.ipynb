{
  "nbformat": 4,
  "nbformat_minor": 0,
  "metadata": {
    "colab": {
      "name": "Energy project 2.ipynb",
      "provenance": []
    },
    "kernelspec": {
      "name": "python3",
      "display_name": "Python 3"
    }
  },
  "cells": [
    {
      "cell_type": "code",
      "metadata": {
        "id": "mkpoaUnW9HNl",
        "colab_type": "code",
        "colab": {}
      },
      "source": [
        "import numpy as np\n",
        "import matplotlib.pyplot as plt"
      ],
      "execution_count": 0,
      "outputs": []
    },
    {
      "cell_type": "code",
      "metadata": {
        "id": "fD9Jix-Q9TI8",
        "colab_type": "code",
        "outputId": "405314b4-e283-49a2-98ac-a91fc0000618",
        "colab": {
          "base_uri": "https://localhost:8080/",
          "height": 34
        }
      },
      "source": [
        "# Cost for PV system per square meter\n",
        "dollar_per_watt = 4\n",
        "efficiency_earth = 1250 # Watt per square meter on earth\n",
        "area_ratio = 0.0923     # The ratio between area in mirror space illuminating area on the ground\n",
        "efficiency_PV = 0.20    # The efficiency of PV cell\n",
        "\n",
        "def cost_PV(dollar_per_watt, efficiency_earth, area_ratio, efficiency_PV):\n",
        "  efficiency_space = efficiency_earth * area_ratio * efficiency_PV\n",
        "  cost = dollar_per_watt * efficiency_space\n",
        "  return cost, efficiency_space\n",
        "\n",
        "cost_PV, efficiency_space = cost_PV(dollar_per_watt, efficiency_earth, area_ratio, efficiency_PV)\n",
        "print(str(cost_PV) + \"$/m^2\")"
      ],
      "execution_count": 79,
      "outputs": [
        {
          "output_type": "stream",
          "text": [
            "92.3$/m^2\n"
          ],
          "name": "stdout"
        }
      ]
    },
    {
      "cell_type": "code",
      "metadata": {
        "id": "wsMWIHtnQJUq",
        "colab_type": "code",
        "outputId": "a68f38d4-e54c-46b4-8bdb-c0a05ad671d5",
        "colab": {
          "base_uri": "https://localhost:8080/",
          "height": 34
        }
      },
      "source": [
        "# Cost for solar mirrors per square meter\n",
        "construction = 2.11 *0.9  # according to NASA\n",
        "transportation = 70   # spaceX reusable Falcon 2\n",
        "maintainance = 1.27 *0.9  # discounted by 40 years period\n",
        "\n",
        "cost_MIRROR = construction + transportation + maintainance\n",
        "print(str(cost_MIRROR) + \"$/m^2\")"
      ],
      "execution_count": 80,
      "outputs": [
        {
          "output_type": "stream",
          "text": [
            "73.042$/m^2\n"
          ],
          "name": "stdout"
        }
      ]
    },
    {
      "cell_type": "code",
      "metadata": {
        "id": "gAFeDgEnpqJh",
        "colab_type": "code",
        "outputId": "47f5cda5-4a87-4622-c1ac-d96b18600ce7",
        "colab": {
          "base_uri": "https://localhost:8080/",
          "height": 34
        }
      },
      "source": [
        "# Revenue\n",
        "price = 0.18     # the electricity price for Alaska in dollar/kWh\n",
        "hours = 365*24    # number of hours in a year\n",
        "efficiency_space  # calculated from the PV cost section \n",
        "\n",
        "def revenue(price, efficiency_space, hours):\n",
        "  total_electricity = efficiency_space * hours * 10e-4\n",
        "  money = total_electricity * price\n",
        "  return money\n",
        "\n",
        "revenue = revenue(price, efficiency_space, hours)\n",
        "print(str(revenue) + \"$/m^2\")"
      ],
      "execution_count": 81,
      "outputs": [
        {
          "output_type": "stream",
          "text": [
            "36.38466$/m^2\n"
          ],
          "name": "stdout"
        }
      ]
    },
    {
      "cell_type": "code",
      "metadata": {
        "id": "96KLX_H9xjhp",
        "colab_type": "code",
        "colab": {
          "base_uri": "https://localhost:8080/",
          "height": 295
        },
        "outputId": "2f8d2613-7572-4e32-8491-50c66e411a35"
      },
      "source": [
        "# net present value \n",
        "period = 40\n",
        "discount_rate = [0.01, 0.05, 0.1, 0.15, 0.2, 0.25, 0.3, 0.35, 0.4]\n",
        "cost = cost_MIRROR + cost_PV\n",
        "def NPV(period, discount_rate, revenue, cost):\n",
        "  out = []\n",
        "  for i in discount_rate:\n",
        "    temp = 0\n",
        "    for j in range(period):\n",
        "      temp += revenue/(1+i)**(j+1)\n",
        "    out.append(temp - cost)\n",
        "  return out \n",
        "NPV_result = NPV(period, discount_rate, revenue, cost)\n",
        "plt.plot(discount_rate, NPV_result)\n",
        "plt.axhline(y=0, xmin=0, xmax=1)\n",
        "plt.title(\"NPV vs. discount rate\")\n",
        "plt.xlabel(\"discount rate\")\n",
        "plt.ylabel(\"Net present value\")\n",
        "plt.show()"
      ],
      "execution_count": 82,
      "outputs": [
        {
          "output_type": "display_data",
          "data": {
            "image/png": "[encoded data removed]",
            "text/plain": [
              "<Figure size 432x288 with 1 Axes>"
            ]
          },
          "metadata": {
            "tags": [],
            "needs_background": "light"
          }
        }
      ]
    }
  ]
}